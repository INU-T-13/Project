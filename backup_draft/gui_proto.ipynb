{
 "cells": [
  {
   "cell_type": "code",
   "execution_count": 7,
   "id": "07724757",
   "metadata": {},
   "outputs": [],
   "source": [
    "from tkinter import *\n",
    "from PIL import ImageTk, Image\n",
    "from tkinter import filedialog\n",
    "import tkinter.messagebox as msgbox\n",
    "from IPython.display import Image as im\n",
    "\n",
    "root=Tk()\n",
    "root.title('Doorlockstudy')\n",
    "root.geometry(\"360x640+600+100\")\n",
    "\n",
    "def predict_image(image_path):\n",
    "    # 이미지 전처리\n",
    "    processed_img = preprocess_image(image_path)\n",
    "    #예측\n",
    "    predictions, _ = PN.eval(processed_img, np.zeros((1, 10, 1))) \n",
    "\n",
    "    # 예측 결과 출력\n",
    "    print(\"예측 id:\")\n",
    "    for i in range(predictions.shape[1]):\n",
    "        print(predictions[0, i, 0].numpy(), \"\", end=\"\")\n",
    "    print()\n",
    "\n",
    "# 사용 예시\n",
    "#image_path = (\"경로입력\")\n",
    "#predict_image(image_path)\n",
    "\n",
    "def btncmd_open():\n",
    "    global my_image\n",
    "    root.filename=filedialog.askopenfilename(initialdir='', title=\"파일선택\", \n",
    "    filetype=(('jpg files', '*.jpg'),('png files', '*.png'),('all files', '*.*')))\n",
    "\n",
    "    Label(root, text=root.filename).pack()\n",
    "    m_image=Image.open(root.filename)\n",
    "    m=m_image.resize((360,600))\n",
    "    my_image=ImageTk.PhotoImage(m)\n",
    "    Label(image=my_image).pack(padx=0,pady=0)\n",
    "    \n",
    "    \n",
    "def btncmd_test():\n",
    "    msgbox.showinfo(\"비밀번호\",\"비밀번호는 1111입니다.\")\n",
    "    \n",
    "def btncmd_test2():\n",
    "    print(root.filename)\n",
    "    test_image=Image.open(root.filename)\n",
    "    predict_image(test_image)\n",
    "\n",
    "    \n",
    "frame_btn=Frame(root,relief=\"solid\",bd=1)\n",
    "frame_btn.pack(side=\"bottom\",fill=\"both\")\n",
    "open_btn=Button(frame_btn, width=20, text=\"파일열기\", command=btncmd_open).grid(row=0,column=0,padx=15,pady=1)\n",
    "run_btn=Button(frame_btn, width=20, text=\"추측하기\", command=btncmd_test).grid(row=0,column=1,padx=15,pady=1)  \n",
    "    \n",
    "    \n",
    "    \n",
    "root.mainloop()"
   ]
  },
  {
   "cell_type": "markdown",
   "id": "b3ad14d7",
   "metadata": {},
   "source": [
    "![jupyter](./guiex.png)"
   ]
  },
  {
   "cell_type": "code",
   "execution_count": null,
   "id": "38f7f228",
   "metadata": {},
   "outputs": [],
   "source": []
  }
 ],
 "metadata": {
  "kernelspec": {
   "display_name": "Python 3 (ipykernel)",
   "language": "python",
   "name": "python3"
  },
  "language_info": {
   "codemirror_mode": {
    "name": "ipython",
    "version": 3
   },
   "file_extension": ".py",
   "mimetype": "text/x-python",
   "name": "python",
   "nbconvert_exporter": "python",
   "pygments_lexer": "ipython3",
   "version": "3.9.12"
  }
 },
 "nbformat": 4,
 "nbformat_minor": 5
}
