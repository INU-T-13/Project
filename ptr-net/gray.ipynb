{
 "cells": [
  {
   "cell_type": "code",
   "execution_count": null,
   "id": "24c0f2c6",
   "metadata": {},
   "outputs": [],
   "source": [
    "\n",
    "from scipy import misc\n",
    "import numpy as np\n",
    "import matplotlib\n",
    "import matplotlib.pyplot as plt \n",
    "import sys as sys\n",
    "\n",
    "\n",
    "image = misc.imread(sys.argv[1])\n",
    "\n",
    "# the shape of the image\n",
    "print image.shape\n",
    "\n",
    "# Intialize a new array of zeroes with the same shape\n",
    "grey = np.zeros((image.shape[0],image.shape[1]));\n",
    "grey2 = np.zeros((image.shape[0],image.shape[1]));\n",
    "\n",
    "# 'Human' Average - adapted for human eyes\n",
    "def average1(pixel):\n",
    "    return (0.299*pixel[0] + 0.587*pixel[1] + 0.114*pixel[2])/3\n",
    "\n",
    "# Raw Average \n",
    "def average2(pixel):\n",
    "    return np.average(pixel);\n",
    "\n",
    "# Map averages of pixels to the grey image\n",
    "for r in range(len(image)): \n",
    "    for c in range(len(image[r])): \n",
    "        # Use human average\n",
    "        grey[r][c] = average1(image[r][c]);\n",
    "\n",
    "plt.imshow(grey, cmap = matplotlib.cm.Greys_r) \n",
    "plt.show()"
   ]
  }
 ],
 "metadata": {
  "kernelspec": {
   "display_name": "Python 3 (ipykernel)",
   "language": "python",
   "name": "python3"
  },
  "language_info": {
   "codemirror_mode": {
    "name": "ipython",
    "version": 3
   },
   "file_extension": ".py",
   "mimetype": "text/x-python",
   "name": "python",
   "nbconvert_exporter": "python",
   "pygments_lexer": "ipython3",
   "version": "3.9.7"
  }
 },
 "nbformat": 4,
 "nbformat_minor": 5
}
